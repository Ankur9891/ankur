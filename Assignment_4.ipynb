{
 "cells": [
  {
   "cell_type": "code",
   "execution_count": 1,
   "id": "ce594fdb",
   "metadata": {},
   "outputs": [],
   "source": [
    "import pandas as pd\n",
    "import numpy as np"
   ]
  },
  {
   "cell_type": "code",
   "execution_count": 2,
   "id": "3ca89fc5",
   "metadata": {},
   "outputs": [
    {
     "name": "stdout",
     "output_type": "stream",
     "text": [
      "<class 'list'>\n"
     ]
    }
   ],
   "source": [
    "#Q1 . What exactly is []?\n",
    "\n",
    "a=[]\n",
    "print (type(a))"
   ]
  },
  {
   "cell_type": "code",
   "execution_count": 5,
   "id": "b3338d42",
   "metadata": {},
   "outputs": [
    {
     "data": {
      "text/plain": [
       "[2, 4, 'hello', 8, 10]"
      ]
     },
     "execution_count": 5,
     "metadata": {},
     "output_type": "execute_result"
    }
   ],
   "source": [
    "''' Q2. In a list of values stored in a variable called spam, \n",
    "how would you assign the value 'hello' as the third value? (Assume [2, 4, 6, 8, 10] are in spam.)'''\n",
    "\n",
    "spam=[2, 4, 6, 8, 10]\n",
    "spam[2]='hello'\n",
    "spam"
   ]
  },
  {
   "cell_type": "code",
   "execution_count": 6,
   "id": "3159955a",
   "metadata": {},
   "outputs": [
    {
     "data": {
      "text/plain": [
       "8"
      ]
     },
     "execution_count": 6,
     "metadata": {},
     "output_type": "execute_result"
    }
   ],
   "source": [
    "# Q3. spam[int(int('3' * 2) / 11)]\n",
    "\n",
    "spam[int(int('3' * 2) / 11)]\n",
    "\n"
   ]
  },
  {
   "cell_type": "code",
   "execution_count": 9,
   "id": "b5053780",
   "metadata": {},
   "outputs": [
    {
     "data": {
      "text/plain": [
       "8"
      ]
     },
     "execution_count": 9,
     "metadata": {},
     "output_type": "execute_result"
    }
   ],
   "source": [
    "spam[int(int('3' * 2)/11)]"
   ]
  },
  {
   "cell_type": "code",
   "execution_count": 11,
   "id": "a8592e2c",
   "metadata": {},
   "outputs": [
    {
     "data": {
      "text/plain": [
       "3.0"
      ]
     },
     "execution_count": 11,
     "metadata": {},
     "output_type": "execute_result"
    }
   ],
   "source": [
    "int('3' * 2)/11"
   ]
  },
  {
   "cell_type": "code",
   "execution_count": 12,
   "id": "60ac77d4",
   "metadata": {},
   "outputs": [
    {
     "data": {
      "text/plain": [
       "[2, 4]"
      ]
     },
     "execution_count": 12,
     "metadata": {},
     "output_type": "execute_result"
    }
   ],
   "source": [
    "spam[:2]"
   ]
  },
  {
   "cell_type": "code",
   "execution_count": 20,
   "id": "724ba089",
   "metadata": {},
   "outputs": [],
   "source": [
    "bacon = [3.14, 'cat' ,\n",
    "         11, 'cat', True]\n",
    "\n",
    "\n"
   ]
  },
  {
   "cell_type": "code",
   "execution_count": 17,
   "id": "a9fc8d61",
   "metadata": {},
   "outputs": [
    {
     "data": {
      "text/plain": [
       "1"
      ]
     },
     "execution_count": 17,
     "metadata": {},
     "output_type": "execute_result"
    }
   ],
   "source": [
    "bacon.index('cat')"
   ]
  },
  {
   "cell_type": "code",
   "execution_count": 21,
   "id": "78261035",
   "metadata": {},
   "outputs": [
    {
     "data": {
      "text/plain": [
       "[3.14, 'cat', 11, 'cat', True, 99]"
      ]
     },
     "execution_count": 21,
     "metadata": {},
     "output_type": "execute_result"
    }
   ],
   "source": [
    "bacon.append(99)\n",
    "bacon"
   ]
  },
  {
   "cell_type": "code",
   "execution_count": 22,
   "id": "704dc8bb",
   "metadata": {},
   "outputs": [],
   "source": [
    "bacon.remove('cat')"
   ]
  },
  {
   "cell_type": "code",
   "execution_count": 23,
   "id": "754008c9",
   "metadata": {},
   "outputs": [
    {
     "data": {
      "text/plain": [
       "[3.14, 11, 'cat', True, 99]"
      ]
     },
     "execution_count": 23,
     "metadata": {},
     "output_type": "execute_result"
    }
   ],
   "source": [
    "bacon"
   ]
  },
  {
   "cell_type": "code",
   "execution_count": 25,
   "id": "4a92185f",
   "metadata": {},
   "outputs": [],
   "source": [
    "# What is difference between the list methods append() and insert()?\n",
    "# Ans appends add the elemne t at the end and insert add the element at desired index. \n",
    "a=[1,2,3]\n",
    "a.append(4)\n",
    "a\n",
    "a.insert(1,8)"
   ]
  },
  {
   "cell_type": "code",
   "execution_count": 26,
   "id": "7b063d96",
   "metadata": {},
   "outputs": [
    {
     "data": {
      "text/plain": [
       "[1, 8, 2, 3, 4]"
      ]
     },
     "execution_count": 26,
     "metadata": {},
     "output_type": "execute_result"
    }
   ],
   "source": [
    "a"
   ]
  },
  {
   "cell_type": "code",
   "execution_count": 28,
   "id": "e6150471",
   "metadata": {},
   "outputs": [
    {
     "data": {
      "text/plain": [
       "[1, 5, 7]"
      ]
     },
     "execution_count": 28,
     "metadata": {},
     "output_type": "execute_result"
    }
   ],
   "source": [
    "# What are the two methods for removing items from a list?\n",
    "\n",
    "a=[1,3,5,7]\n",
    "a.remove(3)\n",
    "a"
   ]
  },
  {
   "cell_type": "code",
   "execution_count": 30,
   "id": "faf69bc2",
   "metadata": {},
   "outputs": [
    {
     "data": {
      "text/plain": [
       "3"
      ]
     },
     "execution_count": 30,
     "metadata": {},
     "output_type": "execute_result"
    }
   ],
   "source": [
    "a=[1,3,5,7]\n",
    "a.pop(1)"
   ]
  },
  {
   "cell_type": "code",
   "execution_count": 34,
   "id": "786d663e",
   "metadata": {},
   "outputs": [],
   "source": [
    "a=[1,3,5,7]\n",
    "del a[1]"
   ]
  },
  {
   "cell_type": "code",
   "execution_count": 35,
   "id": "84f2d4fa",
   "metadata": {},
   "outputs": [
    {
     "data": {
      "text/plain": [
       "\"What's the difference between tuples and lists?\\nAns.  Lists are mutable and tuple are inmutable. \\nList symbol =[],tuple= (). \\nList has several built-in methods but tuple doesn’t have built in methods. \\n\""
      ]
     },
     "execution_count": 35,
     "metadata": {},
     "output_type": "execute_result"
    }
   ],
   "source": [
    "'''What's the difference between tuples and lists?\n",
    "Ans.  Lists are mutable and tuple are inmutable. \n",
    "List symbol =[],tuple= (). \n",
    "List has several built-in methods but tuple doesn’t have built in methods. \n",
    "'''"
   ]
  },
  {
   "cell_type": "code",
   "execution_count": 45,
   "id": "101e33f3",
   "metadata": {},
   "outputs": [
    {
     "data": {
      "text/plain": [
       "tuple"
      ]
     },
     "execution_count": 45,
     "metadata": {},
     "output_type": "execute_result"
    }
   ],
   "source": [
    "'''Q. How do you type a tuple value that only contains the integer 42?'''\n",
    "\n",
    "t=[42]\n",
    "a=tuple(t)\n",
    "type(a)"
   ]
  },
  {
   "cell_type": "code",
   "execution_count": 48,
   "id": "86e46f23",
   "metadata": {},
   "outputs": [
    {
     "data": {
      "text/plain": [
       "(1, 2, 3, 4)"
      ]
     },
     "execution_count": 48,
     "metadata": {},
     "output_type": "execute_result"
    }
   ],
   "source": [
    "'''Q. How do you get a list value's tuple form? How do you get a tuple value's list form'''\n",
    "\n",
    "a=(1,2,3)\n",
    "b=list(a)\n",
    "b\n",
    "\n",
    "c=[1,2,3,4]\n",
    "d=tuple(c)\n",
    "d"
   ]
  },
  {
   "cell_type": "code",
   "execution_count": 49,
   "id": "4318a134",
   "metadata": {},
   "outputs": [
    {
     "data": {
      "text/plain": [
       "'Q Variables that \"contain\" list values are not necessarily lists themselves. Instead, what do they contain?\\n\\nAns. . It contains Lists and String values'"
      ]
     },
     "execution_count": 49,
     "metadata": {},
     "output_type": "execute_result"
    }
   ],
   "source": [
    "'''Q Variables that \"contain\" list values are not necessarily lists themselves. Instead, what do they contain?\n",
    "\n",
    "Ans. . It contains Lists and String values'''"
   ]
  },
  {
   "cell_type": "code",
   "execution_count": null,
   "id": "6ef2542c",
   "metadata": {},
   "outputs": [],
   "source": [
    "'''How do you distinguish between copy.copy() and copy.deepcopy()?\n",
    "Ans. if we use copy to keep the data then if we change in original data it will effect the new data also.\n",
    "But this is not in the case of deep copy. It create the separate response to it. \n",
    "'''"
   ]
  }
 ],
 "metadata": {
  "kernelspec": {
   "display_name": "Python 3",
   "language": "python",
   "name": "python3"
  },
  "language_info": {
   "codemirror_mode": {
    "name": "ipython",
    "version": 3
   },
   "file_extension": ".py",
   "mimetype": "text/x-python",
   "name": "python",
   "nbconvert_exporter": "python",
   "pygments_lexer": "ipython3",
   "version": "3.8.8"
  }
 },
 "nbformat": 4,
 "nbformat_minor": 5
}
