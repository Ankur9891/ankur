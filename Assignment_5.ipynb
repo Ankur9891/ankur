{
 "cells": [
  {
   "cell_type": "code",
   "execution_count": 1,
   "id": "b253b662",
   "metadata": {},
   "outputs": [
    {
     "data": {
      "text/plain": [
       "dict"
      ]
     },
     "execution_count": 1,
     "metadata": {},
     "output_type": "execute_result"
    }
   ],
   "source": [
    "#Q What does an empty dictionary's code look like?\n",
    "#Ans. two curly braces\n",
    "a={}\n"
   ]
  },
  {
   "cell_type": "code",
   "execution_count": 7,
   "id": "aac6bd20",
   "metadata": {},
   "outputs": [],
   "source": [
    "# What is the value of a dictionary value with the key 'foo' and the value 42?\n",
    "spam={'bar':42}\n"
   ]
  },
  {
   "cell_type": "code",
   "execution_count": 3,
   "id": "a55f8b04",
   "metadata": {},
   "outputs": [],
   "source": [
    "#Q3 What is the most significant distinction between a dictionary and a list? \n",
    "\n",
    "# Ans. In dictionary we can access the values using the keys, but in list you can access the values using the index numbers.\n",
    "\n",
    "city_population = {\"New York City\": 8_550_405, \n",
    "                   \"Los Angeles\": 3_971_883, \n",
    "                   \"Toronto\": 2_731_571, \n",
    "                   \"Chicago\": 2_720_546, \n",
    "                   \"Houston\": 2_296_224, \n",
    "                   \"Montreal\": 1_704_694, \n",
    "                   \"Calgary\": 1_239_220, \n",
    "                   \"Vancouver\": 631_486, \n",
    "                   \"Boston\": 667_137}"
   ]
  },
  {
   "cell_type": "code",
   "execution_count": 9,
   "id": "0532ea56",
   "metadata": {},
   "outputs": [
    {
     "data": {
      "text/plain": [
       "False"
      ]
     },
     "execution_count": 9,
     "metadata": {},
     "output_type": "execute_result"
    }
   ],
   "source": [
    "'cat' in spam"
   ]
  },
  {
   "cell_type": "code",
   "execution_count": 10,
   "id": "96b20ece",
   "metadata": {},
   "outputs": [
    {
     "data": {
      "text/plain": [
       "False"
      ]
     },
     "execution_count": 10,
     "metadata": {},
     "output_type": "execute_result"
    }
   ],
   "source": [
    "'cat' in spam.keys()"
   ]
  },
  {
   "cell_type": "code",
   "execution_count": null,
   "id": "677c088d",
   "metadata": {},
   "outputs": [],
   "source": []
  }
 ],
 "metadata": {
  "kernelspec": {
   "display_name": "Python 3",
   "language": "python",
   "name": "python3"
  },
  "language_info": {
   "codemirror_mode": {
    "name": "ipython",
    "version": 3
   },
   "file_extension": ".py",
   "mimetype": "text/x-python",
   "name": "python",
   "nbconvert_exporter": "python",
   "pygments_lexer": "ipython3",
   "version": "3.8.8"
  }
 },
 "nbformat": 4,
 "nbformat_minor": 5
}
