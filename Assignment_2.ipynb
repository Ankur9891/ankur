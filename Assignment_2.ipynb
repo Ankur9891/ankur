{
 "cells": [
  {
   "cell_type": "code",
   "execution_count": 2,
   "id": "cadfea3d",
   "metadata": {},
   "outputs": [
    {
     "ename": "SyntaxError",
     "evalue": "EOL while scanning string literal (<ipython-input-2-2e51d919d5a7>, line 3)",
     "output_type": "error",
     "traceback": [
      "\u001b[1;36m  File \u001b[1;32m\"<ipython-input-2-2e51d919d5a7>\"\u001b[1;36m, line \u001b[1;32m3\u001b[0m\n\u001b[1;33m    'boolean data types has 2 balues i.e.\u001b[0m\n\u001b[1;37m                                          ^\u001b[0m\n\u001b[1;31mSyntaxError\u001b[0m\u001b[1;31m:\u001b[0m EOL while scanning string literal\n"
     ]
    }
   ],
   "source": [
    "#Q1 What are the two values of the Boolean data type? How do you write them?\n",
    "\n",
    "'''boolean data types has 2 balues i.e. \n",
    "\n",
    "'True and False'"
   ]
  },
  {
   "cell_type": "markdown",
   "id": "6dc02403",
   "metadata": {},
   "source": [
    "Q2 What are the three different types of Boolean operators?\n"
   ]
  },
  {
   "cell_type": "code",
   "execution_count": 3,
   "id": "f92fbab2",
   "metadata": {},
   "outputs": [
    {
     "data": {
      "text/plain": [
       "'Ans. The logical operators and, or and not are also referred to as boolean operators'"
      ]
     },
     "execution_count": 3,
     "metadata": {},
     "output_type": "execute_result"
    }
   ],
   "source": [
    "'''Ans. The logical operators and, or and not are also referred to as boolean operators''' "
   ]
  },
  {
   "cell_type": "markdown",
   "id": "0beae580",
   "metadata": {},
   "source": [
    "Q3. Make a list of each Boolean operator's truth tables (i.e. every possible combination of Boolean values for the operator and what it evaluate ).\n"
   ]
  },
  {
   "cell_type": "code",
   "execution_count": 8,
   "id": "b1166288",
   "metadata": {},
   "outputs": [
    {
     "name": "stdout",
     "output_type": "stream",
     "text": [
      "False\n",
      "True\n",
      "False\n"
     ]
    }
   ],
   "source": [
    "'''Ans. \n",
    "\n",
    "condition 1\tcondition 2\tNOT X\tX AND Y\tX OR Y\n",
    "(e.g., X)\t(e.g., Y)\t( ~ X )\t( X && Y )\t( X || Y )\n",
    "FALSE\tFALSE\tTRUE\tFALSE\tFALSE\n",
    "FALSE\tTRUE\tTRUE\tFALSE\tTRUE\n",
    "TRUE\tFALSE\tFALSE\tFALSE\tTRUE\n",
    "TRUE\tTRUE\tFALSE\tTRUE\tTRUE\n",
    "\n",
    "''' \n",
    "\n",
    "print ((2>3) and (1<2))\n",
    "print ((2>3) or (1<2))\n",
    "print (not((2>3) or (1<2)))"
   ]
  },
  {
   "cell_type": "markdown",
   "id": "a7faf553",
   "metadata": {},
   "source": [
    "Q4. What are the values of the following expressions?"
   ]
  },
  {
   "cell_type": "code",
   "execution_count": 9,
   "id": "2c508cc8",
   "metadata": {},
   "outputs": [
    {
     "data": {
      "text/plain": [
       "False"
      ]
     },
     "execution_count": 9,
     "metadata": {},
     "output_type": "execute_result"
    }
   ],
   "source": [
    "# \n",
    "(5 > 4) and (3 == 5) - False\n",
    "not (5 > 4) - True\n",
    "(5 > 4) or (3 == 5) - True\n",
    "not ((5 > 4) or (3 == 5)) - False\n",
    "(True and True) and (True == False) - False\n",
    "(True and True) and (True == False) - True\n",
    "\n"
   ]
  },
  {
   "cell_type": "markdown",
   "id": "213f75c7",
   "metadata": {},
   "source": [
    "Q5. What are the six comparison operators?"
   ]
  },
  {
   "cell_type": "code",
   "execution_count": 15,
   "id": "32483142",
   "metadata": {},
   "outputs": [
    {
     "data": {
      "text/plain": [
       "'6. Python Not Equal Operator (!=) Operator'"
      ]
     },
     "execution_count": 15,
     "metadata": {},
     "output_type": "execute_result"
    }
   ],
   "source": [
    "'1. Python Less Than (<) Operator:- 3<6'\n",
    "'2. Python Greater Than (>) Operator:-  6>3'\n",
    "'3. Less Than or Equal To (<=) Operator: 4<=5'\n",
    "'4. Equal To or Greater Than – Python (>=) Operator 5>=6'\n",
    "'5. Python Equal To (==) Operator 4==4'\n",
    "'6. Python Not Equal Operator (!=) Operator'"
   ]
  },
  {
   "cell_type": "markdown",
   "id": "9a426785",
   "metadata": {},
   "source": [
    "Q6. How do you tell the difference between the equal to and assignment operators?Describe a condition and when you would use one."
   ]
  },
  {
   "cell_type": "code",
   "execution_count": 13,
   "id": "468ea773",
   "metadata": {},
   "outputs": [
    {
     "data": {
      "text/plain": [
       "1"
      ]
     },
     "execution_count": 13,
     "metadata": {},
     "output_type": "execute_result"
    }
   ],
   "source": [
    "'Ans. equal operator '==' \n",
    "'Assignment operator '=' '\n",
    "\n",
    "4==4\n",
    "a=4 "
   ]
  },
  {
   "cell_type": "markdown",
   "id": "fd5216e1",
   "metadata": {},
   "source": [
    "Q7. Identify the three blocks in this code:"
   ]
  },
  {
   "cell_type": "code",
   "execution_count": 16,
   "id": "25514ec1",
   "metadata": {},
   "outputs": [
    {
     "ename": "IndentationError",
     "evalue": "expected an indented block (<ipython-input-16-3f64fe7ce118>, line 3)",
     "output_type": "error",
     "traceback": [
      "\u001b[1;36m  File \u001b[1;32m\"<ipython-input-16-3f64fe7ce118>\"\u001b[1;36m, line \u001b[1;32m3\u001b[0m\n\u001b[1;33m    print('eggs')\u001b[0m\n\u001b[1;37m    ^\u001b[0m\n\u001b[1;31mIndentationError\u001b[0m\u001b[1;31m:\u001b[0m expected an indented block\n"
     ]
    }
   ],
   "source": [
    "spam = 0\n",
    "if spam == 10:\n",
    "print('eggs')\n",
    "if spam > 5:\n",
    "print('bacon')\n",
    "else:\n",
    "print('ham')\n",
    "print('spam')\n",
    "print('spam')\n"
   ]
  },
  {
   "cell_type": "markdown",
   "id": "b027d52b",
   "metadata": {},
   "source": [
    "Q8. Write code that prints Hello if 1 is stored in spam, prints Howdy if 2 is stored in spam, and prints Greetings! if anything else is stored in spam."
   ]
  },
  {
   "cell_type": "code",
   "execution_count": 21,
   "id": "6a0321d7",
   "metadata": {},
   "outputs": [
    {
     "name": "stdout",
     "output_type": "stream",
     "text": [
      "Grettings!\n"
     ]
    }
   ],
   "source": [
    "spam=\n",
    "if spam==1:\n",
    "    print ('hello')\n",
    "elif spam==2:\n",
    "    print ('Howdy')\n",
    "else:\n",
    "    print ('Grettings!')"
   ]
  },
  {
   "cell_type": "markdown",
   "id": "b11d40af",
   "metadata": {},
   "source": [
    "Q9. If your programme is stuck in an endless loop, what keys you’ll press?\n",
    "\n",
    "Ans. ctrl+c"
   ]
  },
  {
   "cell_type": "markdown",
   "id": "08e30716",
   "metadata": {},
   "source": [
    "Q10. How can you tell the difference between break and continue?\n",
    "\n",
    "Ans. "
   ]
  },
  {
   "cell_type": "code",
   "execution_count": 26,
   "id": "115eef43",
   "metadata": {},
   "outputs": [
    {
     "name": "stdout",
     "output_type": "stream",
     "text": [
      "Processing item: 12\n",
      "Processing item: 34\n",
      "Processing item: 48\n",
      "sorry we can't process this order...insurance must be required\n"
     ]
    }
   ],
   "source": [
    "cart=[12,34,48,500,600,89]\n",
    "for item in cart:\n",
    "    if item >= 500 :\n",
    "        print(\"sorry we can't process this order...insurance must be required\")\n",
    "        break\n",
    "    print(\"Processing item:\", item)\n"
   ]
  },
  {
   "cell_type": "code",
   "execution_count": 25,
   "id": "62585b5c",
   "metadata": {},
   "outputs": [
    {
     "name": "stdout",
     "output_type": "stream",
     "text": [
      "Processing item: 12\n",
      "Processing item: 34\n",
      "Processing item: 48\n",
      "sorry we can't process this order...insurance must be required\n",
      "sorry we can't process this order...insurance must be required\n",
      "Processing item: 89\n"
     ]
    }
   ],
   "source": [
    "cart=[12,34,48,500,600,89]\n",
    "for item in cart:\n",
    "    if item >= 500 :\n",
    "        print(\"sorry we can't process this order...insurance must be required\")\n",
    "        continue\n",
    "    print(\"Processing item:\", item)\n"
   ]
  },
  {
   "cell_type": "markdown",
   "id": "2a2ae576",
   "metadata": {},
   "source": [
    "Q10. How can you tell the difference between break and continue?"
   ]
  },
  {
   "cell_type": "code",
   "execution_count": 27,
   "id": "bffdcd5a",
   "metadata": {},
   "outputs": [
    {
     "name": "stdout",
     "output_type": "stream",
     "text": [
      "Processing item: 12\n",
      "Processing item: 34\n",
      "Processing item: 48\n",
      "sorry we can't process this order...insurance must be required\n",
      "Processing item: 12\n",
      "Processing item: 34\n",
      "Processing item: 48\n",
      "sorry we can't process this order...insurance must be required\n",
      "sorry we can't process this order...insurance must be required\n",
      "Processing item: 89\n"
     ]
    }
   ],
   "source": [
    "'''Ans. Break eliminates the execution of remaining iteration of loop and continue will terminate only the current iteration of loop.\n",
    "'''\n",
    "cart=[12,34,48,500,600,89]\n",
    "for item in cart:\n",
    "    if item >= 500 :\n",
    "        print(\"sorry we can't process this order...insurance must be required\")\n",
    "        break\n",
    "    print(\"Processing item:\", item)\n",
    "\n",
    "cart=[12,34,48,500,600,89]\n",
    "for item in cart:\n",
    "    if item >= 500 :\n",
    "        print(\"sorry we can't process this order...insurance must be required\")\n",
    "        continue\n",
    "    print(\"Processing item:\", item)\n"
   ]
  },
  {
   "cell_type": "code",
   "execution_count": 28,
   "id": "c3e9ea08",
   "metadata": {},
   "outputs": [
    {
     "name": "stdout",
     "output_type": "stream",
     "text": [
      "0\n",
      "1\n",
      "2\n",
      "3\n",
      "4\n",
      "5\n",
      "6\n",
      "7\n",
      "8\n",
      "9\n"
     ]
    }
   ],
   "source": [
    "for i in range (10):\n",
    "    print (i)"
   ]
  },
  {
   "cell_type": "code",
   "execution_count": 29,
   "id": "68d9833d",
   "metadata": {},
   "outputs": [
    {
     "name": "stdout",
     "output_type": "stream",
     "text": [
      "0\n",
      "1\n",
      "2\n",
      "3\n",
      "4\n",
      "5\n",
      "6\n",
      "7\n",
      "8\n",
      "9\n"
     ]
    }
   ],
   "source": [
    "for i in range(0,10):\n",
    "    print (i)"
   ]
  },
  {
   "cell_type": "code",
   "execution_count": 30,
   "id": "3d4bf85a",
   "metadata": {},
   "outputs": [
    {
     "name": "stdout",
     "output_type": "stream",
     "text": [
      "0\n",
      "1\n",
      "2\n",
      "3\n",
      "4\n",
      "5\n",
      "6\n",
      "7\n",
      "8\n",
      "9\n"
     ]
    }
   ],
   "source": [
    "for i in range(0,10,1):\n",
    "    print (i)"
   ]
  },
  {
   "cell_type": "markdown",
   "id": "d24d1af0",
   "metadata": {},
   "source": [
    ". In a for loop, what is the difference between range(10), range(0, 10), and range(0, 10, 1)"
   ]
  },
  {
   "cell_type": "code",
   "execution_count": 31,
   "id": "8c80ab02",
   "metadata": {},
   "outputs": [],
   "source": [
    "# Ans :- result will be the same. \n"
   ]
  },
  {
   "cell_type": "markdown",
   "id": "7d259cd3",
   "metadata": {},
   "source": [
    "Q12. Write a short program that prints the numbers 1 to 10 using a for loop. \n",
    "Then write an equivalent program that prints the numbers 1 to 10 using a while loop."
   ]
  },
  {
   "cell_type": "code",
   "execution_count": 33,
   "id": "39fde266",
   "metadata": {},
   "outputs": [
    {
     "name": "stdout",
     "output_type": "stream",
     "text": [
      "1\n",
      "2\n",
      "3\n",
      "4\n",
      "5\n",
      "6\n",
      "7\n",
      "8\n",
      "9\n"
     ]
    }
   ],
   "source": [
    "for i in range (1,10):\n",
    "    print (i)"
   ]
  },
  {
   "cell_type": "code",
   "execution_count": 35,
   "id": "35271488",
   "metadata": {},
   "outputs": [
    {
     "name": "stdout",
     "output_type": "stream",
     "text": [
      "1\n",
      "2\n",
      "3\n",
      "4\n",
      "5\n",
      "6\n",
      "7\n",
      "8\n",
      "9\n",
      "10\n"
     ]
    }
   ],
   "source": [
    "i=1\n",
    "while i <= 10:\n",
    "    print (i)\n",
    "    i+=1"
   ]
  },
  {
   "cell_type": "markdown",
   "id": "ee4c480a",
   "metadata": {},
   "source": [
    "Q13.If you had a function named bacon() inside a module named spam, how would you call it after importing spam?"
   ]
  },
  {
   "cell_type": "code",
   "execution_count": null,
   "id": "23592509",
   "metadata": {},
   "outputs": [],
   "source": [
    "import spam \n",
    "\n",
    "spam.bacon()"
   ]
  }
 ],
 "metadata": {
  "kernelspec": {
   "display_name": "Python 3",
   "language": "python",
   "name": "python3"
  },
  "language_info": {
   "codemirror_mode": {
    "name": "ipython",
    "version": 3
   },
   "file_extension": ".py",
   "mimetype": "text/x-python",
   "name": "python",
   "nbconvert_exporter": "python",
   "pygments_lexer": "ipython3",
   "version": "3.8.8"
  }
 },
 "nbformat": 4,
 "nbformat_minor": 5
}
